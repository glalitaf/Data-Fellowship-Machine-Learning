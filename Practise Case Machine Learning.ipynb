{
 "cells": [
  {
   "cell_type": "markdown",
   "metadata": {},
   "source": [
    "# Practice Case - Machine learning"
   ]
  },
  {
   "cell_type": "markdown",
   "metadata": {},
   "source": [
    "# Scenario"
   ]
  },
  {
   "attachments": {},
   "cell_type": "markdown",
   "metadata": {},
   "source": [
    "This data-set contains transaction data in a supermarket. You as a data scientist at the retail company are expected to be able to process the data that has been collected so that it becomes valuable insight. "
   ]
  },
  {
   "cell_type": "markdown",
   "metadata": {},
   "source": [
    "# Data Pre-processing"
   ]
  },
  {
   "cell_type": "code",
   "execution_count": 79,
   "metadata": {},
   "outputs": [],
   "source": [
    "import pandas as pd\n",
    "import numpy as np\n",
    "import matplotlib.pyplot as plt\n",
    "import seaborn as sns"
   ]
  },
  {
   "cell_type": "code",
   "execution_count": 2,
   "metadata": {},
   "outputs": [],
   "source": [
    "# Read csv data\n",
    "df= pd.read_csv('ML_2_Fellow.csv')"
   ]
  },
  {
   "cell_type": "code",
   "execution_count": 3,
   "metadata": {},
   "outputs": [
    {
     "data": {
      "text/html": [
       "<div>\n",
       "<style scoped>\n",
       "    .dataframe tbody tr th:only-of-type {\n",
       "        vertical-align: middle;\n",
       "    }\n",
       "\n",
       "    .dataframe tbody tr th {\n",
       "        vertical-align: top;\n",
       "    }\n",
       "\n",
       "    .dataframe thead th {\n",
       "        text-align: right;\n",
       "    }\n",
       "</style>\n",
       "<table border=\"1\" class=\"dataframe\">\n",
       "  <thead>\n",
       "    <tr style=\"text-align: right;\">\n",
       "      <th></th>\n",
       "      <th>Kode_Bayar</th>\n",
       "      <th>Kode_Barang</th>\n",
       "      <th>Barang</th>\n",
       "      <th>Jumlah</th>\n",
       "      <th>Tanggal_Transaksi</th>\n",
       "      <th>Harga_Satuan</th>\n",
       "      <th>Kode_Pelanggan</th>\n",
       "      <th>Negara</th>\n",
       "    </tr>\n",
       "  </thead>\n",
       "  <tbody>\n",
       "    <tr>\n",
       "      <th>0</th>\n",
       "      <td>536365</td>\n",
       "      <td>85123A</td>\n",
       "      <td>WHITE HANGING HEART T-LIGHT HOLDER</td>\n",
       "      <td>6.0</td>\n",
       "      <td>12/1/2010 8:26</td>\n",
       "      <td>2.55</td>\n",
       "      <td>17850.0</td>\n",
       "      <td>United Kingdom</td>\n",
       "    </tr>\n",
       "    <tr>\n",
       "      <th>1</th>\n",
       "      <td>536365</td>\n",
       "      <td>71053</td>\n",
       "      <td>WHITE METAL LANTERN</td>\n",
       "      <td>6.0</td>\n",
       "      <td>12/1/2010 8:26</td>\n",
       "      <td>3.39</td>\n",
       "      <td>17850.0</td>\n",
       "      <td>United Kingdom</td>\n",
       "    </tr>\n",
       "    <tr>\n",
       "      <th>2</th>\n",
       "      <td>536365</td>\n",
       "      <td>84406B</td>\n",
       "      <td>CREAM CUPID HEARTS COAT HANGER</td>\n",
       "      <td>8.0</td>\n",
       "      <td>12/1/2010 8:26</td>\n",
       "      <td>2.75</td>\n",
       "      <td>17850.0</td>\n",
       "      <td>United Kingdom</td>\n",
       "    </tr>\n",
       "    <tr>\n",
       "      <th>3</th>\n",
       "      <td>536365</td>\n",
       "      <td>84029G</td>\n",
       "      <td>KNITTED UNION FLAG HOT WATER BOTTLE</td>\n",
       "      <td>6.0</td>\n",
       "      <td>12/1/2010 8:26</td>\n",
       "      <td>3.39</td>\n",
       "      <td>17850.0</td>\n",
       "      <td>United Kingdom</td>\n",
       "    </tr>\n",
       "    <tr>\n",
       "      <th>4</th>\n",
       "      <td>536365</td>\n",
       "      <td>84029E</td>\n",
       "      <td>RED WOOLLY HOTTIE WHITE HEART.</td>\n",
       "      <td>6.0</td>\n",
       "      <td>12/1/2010 8:26</td>\n",
       "      <td>3.39</td>\n",
       "      <td>17850.0</td>\n",
       "      <td>United Kingdom</td>\n",
       "    </tr>\n",
       "  </tbody>\n",
       "</table>\n",
       "</div>"
      ],
      "text/plain": [
       "  Kode_Bayar Kode_Barang                               Barang  Jumlah  \\\n",
       "0     536365      85123A   WHITE HANGING HEART T-LIGHT HOLDER     6.0   \n",
       "1     536365       71053                  WHITE METAL LANTERN     6.0   \n",
       "2     536365      84406B       CREAM CUPID HEARTS COAT HANGER     8.0   \n",
       "3     536365      84029G  KNITTED UNION FLAG HOT WATER BOTTLE     6.0   \n",
       "4     536365      84029E       RED WOOLLY HOTTIE WHITE HEART.     6.0   \n",
       "\n",
       "  Tanggal_Transaksi  Harga_Satuan  Kode_Pelanggan          Negara  \n",
       "0    12/1/2010 8:26          2.55         17850.0  United Kingdom  \n",
       "1    12/1/2010 8:26          3.39         17850.0  United Kingdom  \n",
       "2    12/1/2010 8:26          2.75         17850.0  United Kingdom  \n",
       "3    12/1/2010 8:26          3.39         17850.0  United Kingdom  \n",
       "4    12/1/2010 8:26          3.39         17850.0  United Kingdom  "
      ]
     },
     "execution_count": 3,
     "metadata": {},
     "output_type": "execute_result"
    }
   ],
   "source": [
    "df.head()"
   ]
  },
  {
   "cell_type": "code",
   "execution_count": 4,
   "metadata": {},
   "outputs": [
    {
     "name": "stdout",
     "output_type": "stream",
     "text": [
      "Shape dataset: (541909, 8)\n",
      "\n",
      "Informasi dataset:\n",
      "<class 'pandas.core.frame.DataFrame'>\n",
      "RangeIndex: 541909 entries, 0 to 541908\n",
      "Data columns (total 8 columns):\n",
      " #   Column             Non-Null Count   Dtype  \n",
      "---  ------             --------------   -----  \n",
      " 0   Kode_Bayar         541909 non-null  object \n",
      " 1   Kode_Barang        535874 non-null  object \n",
      " 2   Barang             534420 non-null  object \n",
      " 3   Jumlah             535874 non-null  float64\n",
      " 4   Tanggal_Transaksi  535874 non-null  object \n",
      " 5   Harga_Satuan       535874 non-null  float64\n",
      " 6   Kode_Pelanggan     403182 non-null  float64\n",
      " 7   Negara             535874 non-null  object \n",
      "dtypes: float64(3), object(5)\n",
      "memory usage: 33.1+ MB\n",
      "None\n",
      "\n",
      "Statistik deskriptif:\n",
      "               Jumlah   Harga_Satuan  Kode_Pelanggan\n",
      "count  535874.000000  535874.000000   403182.000000\n",
      "mean        9.587927       4.636533    15287.687868\n",
      "std       153.292222      97.302232     1714.009551\n",
      "min    -74215.000000  -11062.060000    12346.000000\n",
      "25%         1.000000       1.250000    13952.000000\n",
      "50%         3.000000       2.080000    15152.000000\n",
      "75%        10.000000       4.130000    16791.000000\n",
      "max     74215.000000   38970.000000    18287.000000\n"
     ]
    }
   ],
   "source": [
    "print('Shape dataset:', df.shape)\n",
    "print('\\nInformasi dataset:')\n",
    "print(df.info())\n",
    "print('\\nStatistik deskriptif:\\n', df.describe())"
   ]
  },
  {
   "cell_type": "markdown",
   "metadata": {},
   "source": [
    "## Check duplicate data"
   ]
  },
  {
   "cell_type": "code",
   "execution_count": 5,
   "metadata": {},
   "outputs": [
    {
     "name": "stdout",
     "output_type": "stream",
     "text": [
      "Jumlah Data Duplikasi dalam Dataset: 5268\n"
     ]
    }
   ],
   "source": [
    "print('Jumlah Data Duplikasi dalam Dataset:', df.duplicated(subset=None).sum())"
   ]
  },
  {
   "cell_type": "code",
   "execution_count": 6,
   "metadata": {},
   "outputs": [
    {
     "name": "stdout",
     "output_type": "stream",
     "text": [
      "Shape akhir:  (536641, 8)\n"
     ]
    }
   ],
   "source": [
    "# Remove duplicate data\n",
    "df.drop_duplicates(inplace=True)\n",
    "\n",
    "# Check rows and columns after removing\n",
    "print('Shape akhir: ', df.shape)"
   ]
  },
  {
   "cell_type": "markdown",
   "metadata": {},
   "source": [
    "## Check missing value"
   ]
  },
  {
   "cell_type": "code",
   "execution_count": 7,
   "metadata": {
    "scrolled": true
   },
   "outputs": [
    {
     "name": "stdout",
     "output_type": "stream",
     "text": [
      "Before imputation:\n",
      "Kode_Bayar                0\n",
      "Kode_Barang            5989\n",
      "Barang                 7443\n",
      "Jumlah                 5989\n",
      "Tanggal_Transaksi      5989\n",
      "Harga_Satuan           5989\n",
      "Kode_Pelanggan       138638\n",
      "Negara                 5989\n",
      "dtype: int64\n"
     ]
    }
   ],
   "source": [
    "print(\"Before imputation:\")\n",
    "# Checking missing value for each feature  \n",
    "print(df.isnull().sum())"
   ]
  },
  {
   "cell_type": "code",
   "execution_count": 8,
   "metadata": {},
   "outputs": [
    {
     "data": {
      "text/html": [
       "<div>\n",
       "<style scoped>\n",
       "    .dataframe tbody tr th:only-of-type {\n",
       "        vertical-align: middle;\n",
       "    }\n",
       "\n",
       "    .dataframe tbody tr th {\n",
       "        vertical-align: top;\n",
       "    }\n",
       "\n",
       "    .dataframe thead th {\n",
       "        text-align: right;\n",
       "    }\n",
       "</style>\n",
       "<table border=\"1\" class=\"dataframe\">\n",
       "  <thead>\n",
       "    <tr style=\"text-align: right;\">\n",
       "      <th></th>\n",
       "      <th>Kode_Bayar</th>\n",
       "      <th>Kode_Barang</th>\n",
       "      <th>Barang</th>\n",
       "      <th>Jumlah</th>\n",
       "      <th>Tanggal_Transaksi</th>\n",
       "      <th>Harga_Satuan</th>\n",
       "      <th>Kode_Pelanggan</th>\n",
       "      <th>Negara</th>\n",
       "    </tr>\n",
       "  </thead>\n",
       "  <tbody>\n",
       "    <tr>\n",
       "      <th>109</th>\n",
       "      <td>536381,82567,\"AIRLINE LOUNGE,METAL SIGN\",2,12/...</td>\n",
       "      <td>NaN</td>\n",
       "      <td>NaN</td>\n",
       "      <td>NaN</td>\n",
       "      <td>NaN</td>\n",
       "      <td>NaN</td>\n",
       "      <td>NaN</td>\n",
       "      <td>NaN</td>\n",
       "    </tr>\n",
       "    <tr>\n",
       "      <th>253</th>\n",
       "      <td>536394,21506,\"FANCY FONT BIRTHDAY CARD, \",24,1...</td>\n",
       "      <td>NaN</td>\n",
       "      <td>NaN</td>\n",
       "      <td>NaN</td>\n",
       "      <td>NaN</td>\n",
       "      <td>NaN</td>\n",
       "      <td>NaN</td>\n",
       "      <td>NaN</td>\n",
       "    </tr>\n",
       "    <tr>\n",
       "      <th>871</th>\n",
       "      <td>536477,22041,\"RECORD FRAME 7\"\" SINGLE SIZE \",4...</td>\n",
       "      <td>NaN</td>\n",
       "      <td>NaN</td>\n",
       "      <td>NaN</td>\n",
       "      <td>NaN</td>\n",
       "      <td>NaN</td>\n",
       "      <td>NaN</td>\n",
       "      <td>NaN</td>\n",
       "    </tr>\n",
       "    <tr>\n",
       "      <th>956</th>\n",
       "      <td>536520,22760,\"TRAY, BREAKFAST IN BED\",1,12/1/2...</td>\n",
       "      <td>NaN</td>\n",
       "      <td>NaN</td>\n",
       "      <td>NaN</td>\n",
       "      <td>NaN</td>\n",
       "      <td>NaN</td>\n",
       "      <td>NaN</td>\n",
       "      <td>NaN</td>\n",
       "    </tr>\n",
       "    <tr>\n",
       "      <th>1014</th>\n",
       "      <td>536520,21111,\"SWISS ROLL TOWEL, CHOCOLATE  SPO...</td>\n",
       "      <td>NaN</td>\n",
       "      <td>NaN</td>\n",
       "      <td>NaN</td>\n",
       "      <td>NaN</td>\n",
       "      <td>NaN</td>\n",
       "      <td>NaN</td>\n",
       "      <td>NaN</td>\n",
       "    </tr>\n",
       "  </tbody>\n",
       "</table>\n",
       "</div>"
      ],
      "text/plain": [
       "                                             Kode_Bayar Kode_Barang Barang  \\\n",
       "109   536381,82567,\"AIRLINE LOUNGE,METAL SIGN\",2,12/...         NaN    NaN   \n",
       "253   536394,21506,\"FANCY FONT BIRTHDAY CARD, \",24,1...         NaN    NaN   \n",
       "871   536477,22041,\"RECORD FRAME 7\"\" SINGLE SIZE \",4...         NaN    NaN   \n",
       "956   536520,22760,\"TRAY, BREAKFAST IN BED\",1,12/1/2...         NaN    NaN   \n",
       "1014  536520,21111,\"SWISS ROLL TOWEL, CHOCOLATE  SPO...         NaN    NaN   \n",
       "\n",
       "      Jumlah Tanggal_Transaksi  Harga_Satuan  Kode_Pelanggan Negara  \n",
       "109      NaN               NaN           NaN             NaN    NaN  \n",
       "253      NaN               NaN           NaN             NaN    NaN  \n",
       "871      NaN               NaN           NaN             NaN    NaN  \n",
       "956      NaN               NaN           NaN             NaN    NaN  \n",
       "1014     NaN               NaN           NaN             NaN    NaN  "
      ]
     },
     "execution_count": 8,
     "metadata": {},
     "output_type": "execute_result"
    }
   ],
   "source": [
    "df2=df[df['Kode_Barang'].isnull()]\n",
    "df2.head()"
   ]
  },
  {
   "cell_type": "markdown",
   "metadata": {},
   "source": [
    "# Spliting Data and Imputing NaN Values"
   ]
  },
  {
   "cell_type": "code",
   "execution_count": 9,
   "metadata": {},
   "outputs": [
    {
     "name": "stderr",
     "output_type": "stream",
     "text": [
      "<ipython-input-9-247f73d09441>:1: SettingWithCopyWarning: \n",
      "A value is trying to be set on a copy of a slice from a DataFrame.\n",
      "Try using .loc[row_indexer,col_indexer] = value instead\n",
      "\n",
      "See the caveats in the documentation: https://pandas.pydata.org/pandas-docs/stable/user_guide/indexing.html#returning-a-view-versus-a-copy\n",
      "  df2['Kode_Barang']=df2['Kode_Bayar'].str.split(',').str[1]\n",
      "<ipython-input-9-247f73d09441>:2: SettingWithCopyWarning: \n",
      "A value is trying to be set on a copy of a slice from a DataFrame.\n",
      "Try using .loc[row_indexer,col_indexer] = value instead\n",
      "\n",
      "See the caveats in the documentation: https://pandas.pydata.org/pandas-docs/stable/user_guide/indexing.html#returning-a-view-versus-a-copy\n",
      "  df2['Barang']=df2['Kode_Bayar'].str.split('\"').str[1]\n",
      "<ipython-input-9-247f73d09441>:3: SettingWithCopyWarning: \n",
      "A value is trying to be set on a copy of a slice from a DataFrame.\n",
      "Try using .loc[row_indexer,col_indexer] = value instead\n",
      "\n",
      "See the caveats in the documentation: https://pandas.pydata.org/pandas-docs/stable/user_guide/indexing.html#returning-a-view-versus-a-copy\n",
      "  df2['Jumlah']=df2['Kode_Bayar'].str.split(',').str[-5]\n",
      "<ipython-input-9-247f73d09441>:4: SettingWithCopyWarning: \n",
      "A value is trying to be set on a copy of a slice from a DataFrame.\n",
      "Try using .loc[row_indexer,col_indexer] = value instead\n",
      "\n",
      "See the caveats in the documentation: https://pandas.pydata.org/pandas-docs/stable/user_guide/indexing.html#returning-a-view-versus-a-copy\n",
      "  df2['Tanggal_Transaksi']=df2['Kode_Bayar'].str.split(',').str[-4]\n",
      "<ipython-input-9-247f73d09441>:5: SettingWithCopyWarning: \n",
      "A value is trying to be set on a copy of a slice from a DataFrame.\n",
      "Try using .loc[row_indexer,col_indexer] = value instead\n",
      "\n",
      "See the caveats in the documentation: https://pandas.pydata.org/pandas-docs/stable/user_guide/indexing.html#returning-a-view-versus-a-copy\n",
      "  df2['Harga_Satuan']=df2['Kode_Bayar'].str.split(',').str[-3]\n",
      "<ipython-input-9-247f73d09441>:6: SettingWithCopyWarning: \n",
      "A value is trying to be set on a copy of a slice from a DataFrame.\n",
      "Try using .loc[row_indexer,col_indexer] = value instead\n",
      "\n",
      "See the caveats in the documentation: https://pandas.pydata.org/pandas-docs/stable/user_guide/indexing.html#returning-a-view-versus-a-copy\n",
      "  df2['Kode_Pelanggan']=df2['Kode_Bayar'].str.split(',').str[-2]\n",
      "<ipython-input-9-247f73d09441>:7: SettingWithCopyWarning: \n",
      "A value is trying to be set on a copy of a slice from a DataFrame.\n",
      "Try using .loc[row_indexer,col_indexer] = value instead\n",
      "\n",
      "See the caveats in the documentation: https://pandas.pydata.org/pandas-docs/stable/user_guide/indexing.html#returning-a-view-versus-a-copy\n",
      "  df2['Negara']=df2['Kode_Bayar'].str.split(',').str[-1]\n",
      "<ipython-input-9-247f73d09441>:8: SettingWithCopyWarning: \n",
      "A value is trying to be set on a copy of a slice from a DataFrame.\n",
      "Try using .loc[row_indexer,col_indexer] = value instead\n",
      "\n",
      "See the caveats in the documentation: https://pandas.pydata.org/pandas-docs/stable/user_guide/indexing.html#returning-a-view-versus-a-copy\n",
      "  df2['Kode_Bayar']=df2['Kode_Bayar'].str.split(',').str[0]\n"
     ]
    }
   ],
   "source": [
    "df2['Kode_Barang']=df2['Kode_Bayar'].str.split(',').str[1]\n",
    "df2['Barang']=df2['Kode_Bayar'].str.split('\"').str[1]\n",
    "df2['Jumlah']=df2['Kode_Bayar'].str.split(',').str[-5]\n",
    "df2['Tanggal_Transaksi']=df2['Kode_Bayar'].str.split(',').str[-4]\n",
    "df2['Harga_Satuan']=df2['Kode_Bayar'].str.split(',').str[-3]\n",
    "df2['Kode_Pelanggan']=df2['Kode_Bayar'].str.split(',').str[-2]\n",
    "df2['Negara']=df2['Kode_Bayar'].str.split(',').str[-1]\n",
    "df2['Kode_Bayar']=df2['Kode_Bayar'].str.split(',').str[0]"
   ]
  },
  {
   "cell_type": "code",
   "execution_count": 10,
   "metadata": {
    "scrolled": true
   },
   "outputs": [
    {
     "data": {
      "text/html": [
       "<div>\n",
       "<style scoped>\n",
       "    .dataframe tbody tr th:only-of-type {\n",
       "        vertical-align: middle;\n",
       "    }\n",
       "\n",
       "    .dataframe tbody tr th {\n",
       "        vertical-align: top;\n",
       "    }\n",
       "\n",
       "    .dataframe thead th {\n",
       "        text-align: right;\n",
       "    }\n",
       "</style>\n",
       "<table border=\"1\" class=\"dataframe\">\n",
       "  <thead>\n",
       "    <tr style=\"text-align: right;\">\n",
       "      <th></th>\n",
       "      <th>Kode_Bayar</th>\n",
       "      <th>Kode_Barang</th>\n",
       "      <th>Barang</th>\n",
       "      <th>Jumlah</th>\n",
       "      <th>Tanggal_Transaksi</th>\n",
       "      <th>Harga_Satuan</th>\n",
       "      <th>Kode_Pelanggan</th>\n",
       "      <th>Negara</th>\n",
       "    </tr>\n",
       "  </thead>\n",
       "  <tbody>\n",
       "    <tr>\n",
       "      <th>109</th>\n",
       "      <td>536381</td>\n",
       "      <td>82567</td>\n",
       "      <td>AIRLINE LOUNGE,METAL SIGN</td>\n",
       "      <td>2</td>\n",
       "      <td>12/1/2010 9:41</td>\n",
       "      <td>2.1</td>\n",
       "      <td>15311</td>\n",
       "      <td>United Kingdom</td>\n",
       "    </tr>\n",
       "    <tr>\n",
       "      <th>253</th>\n",
       "      <td>536394</td>\n",
       "      <td>21506</td>\n",
       "      <td>FANCY FONT BIRTHDAY CARD,</td>\n",
       "      <td>24</td>\n",
       "      <td>12/1/2010 10:39</td>\n",
       "      <td>0.42</td>\n",
       "      <td>13408</td>\n",
       "      <td>United Kingdom</td>\n",
       "    </tr>\n",
       "    <tr>\n",
       "      <th>871</th>\n",
       "      <td>536477</td>\n",
       "      <td>22041</td>\n",
       "      <td>RECORD FRAME 7</td>\n",
       "      <td>48</td>\n",
       "      <td>12/1/2010 12:27</td>\n",
       "      <td>2.1</td>\n",
       "      <td>16210</td>\n",
       "      <td>United Kingdom</td>\n",
       "    </tr>\n",
       "    <tr>\n",
       "      <th>956</th>\n",
       "      <td>536520</td>\n",
       "      <td>22760</td>\n",
       "      <td>TRAY, BREAKFAST IN BED</td>\n",
       "      <td>1</td>\n",
       "      <td>12/1/2010 12:43</td>\n",
       "      <td>12.75</td>\n",
       "      <td>14729</td>\n",
       "      <td>United Kingdom</td>\n",
       "    </tr>\n",
       "    <tr>\n",
       "      <th>1014</th>\n",
       "      <td>536520</td>\n",
       "      <td>21111</td>\n",
       "      <td>SWISS ROLL TOWEL, CHOCOLATE  SPOTS</td>\n",
       "      <td>1</td>\n",
       "      <td>12/1/2010 12:43</td>\n",
       "      <td>2.95</td>\n",
       "      <td>14729</td>\n",
       "      <td>United Kingdom</td>\n",
       "    </tr>\n",
       "    <tr>\n",
       "      <th>...</th>\n",
       "      <td>...</td>\n",
       "      <td>...</td>\n",
       "      <td>...</td>\n",
       "      <td>...</td>\n",
       "      <td>...</td>\n",
       "      <td>...</td>\n",
       "      <td>...</td>\n",
       "      <td>...</td>\n",
       "    </tr>\n",
       "    <tr>\n",
       "      <th>541379</th>\n",
       "      <td>581498</td>\n",
       "      <td>22041</td>\n",
       "      <td>RECORD FRAME 7</td>\n",
       "      <td>2</td>\n",
       "      <td>12/9/2011 10:26</td>\n",
       "      <td>5.79</td>\n",
       "      <td></td>\n",
       "      <td>United Kingdom</td>\n",
       "    </tr>\n",
       "    <tr>\n",
       "      <th>541549</th>\n",
       "      <td>581501</td>\n",
       "      <td>22165</td>\n",
       "      <td>DIAMANTE HEART SHAPED WALL MIRROR,</td>\n",
       "      <td>12</td>\n",
       "      <td>12/9/2011 10:46</td>\n",
       "      <td>3.95</td>\n",
       "      <td>12985</td>\n",
       "      <td>United Kingdom</td>\n",
       "    </tr>\n",
       "    <tr>\n",
       "      <th>541614</th>\n",
       "      <td>581516</td>\n",
       "      <td>21111</td>\n",
       "      <td>SWISS ROLL TOWEL, CHOCOLATE  SPOTS</td>\n",
       "      <td>24</td>\n",
       "      <td>12/9/2011 11:26</td>\n",
       "      <td>1.25</td>\n",
       "      <td>14422</td>\n",
       "      <td>United Kingdom</td>\n",
       "    </tr>\n",
       "    <tr>\n",
       "      <th>541649</th>\n",
       "      <td>581538</td>\n",
       "      <td>85071C</td>\n",
       "      <td>CHARLIE+LOLA</td>\n",
       "      <td>1</td>\n",
       "      <td>12/9/2011 11:34</td>\n",
       "      <td>0.39</td>\n",
       "      <td>14446</td>\n",
       "      <td>United Kingdom</td>\n",
       "    </tr>\n",
       "    <tr>\n",
       "      <th>541787</th>\n",
       "      <td>581578</td>\n",
       "      <td>21506</td>\n",
       "      <td>FANCY FONT BIRTHDAY CARD,</td>\n",
       "      <td>12</td>\n",
       "      <td>12/9/2011 12:16</td>\n",
       "      <td>0.42</td>\n",
       "      <td>12713</td>\n",
       "      <td>Germany</td>\n",
       "    </tr>\n",
       "  </tbody>\n",
       "</table>\n",
       "<p>5989 rows × 8 columns</p>\n",
       "</div>"
      ],
      "text/plain": [
       "       Kode_Bayar Kode_Barang                               Barang Jumlah  \\\n",
       "109        536381       82567            AIRLINE LOUNGE,METAL SIGN      2   \n",
       "253        536394       21506           FANCY FONT BIRTHDAY CARD,      24   \n",
       "871        536477       22041                       RECORD FRAME 7     48   \n",
       "956        536520       22760               TRAY, BREAKFAST IN BED      1   \n",
       "1014       536520       21111   SWISS ROLL TOWEL, CHOCOLATE  SPOTS      1   \n",
       "...           ...         ...                                  ...    ...   \n",
       "541379     581498       22041                       RECORD FRAME 7      2   \n",
       "541549     581501       22165  DIAMANTE HEART SHAPED WALL MIRROR,      12   \n",
       "541614     581516       21111   SWISS ROLL TOWEL, CHOCOLATE  SPOTS     24   \n",
       "541649     581538      85071C                         CHARLIE+LOLA      1   \n",
       "541787     581578       21506           FANCY FONT BIRTHDAY CARD,      12   \n",
       "\n",
       "       Tanggal_Transaksi Harga_Satuan Kode_Pelanggan          Negara  \n",
       "109       12/1/2010 9:41          2.1          15311  United Kingdom  \n",
       "253      12/1/2010 10:39         0.42          13408  United Kingdom  \n",
       "871      12/1/2010 12:27          2.1          16210  United Kingdom  \n",
       "956      12/1/2010 12:43        12.75          14729  United Kingdom  \n",
       "1014     12/1/2010 12:43         2.95          14729  United Kingdom  \n",
       "...                  ...          ...            ...             ...  \n",
       "541379   12/9/2011 10:26         5.79                 United Kingdom  \n",
       "541549   12/9/2011 10:46         3.95          12985  United Kingdom  \n",
       "541614   12/9/2011 11:26         1.25          14422  United Kingdom  \n",
       "541649   12/9/2011 11:34         0.39          14446  United Kingdom  \n",
       "541787   12/9/2011 12:16         0.42          12713         Germany  \n",
       "\n",
       "[5989 rows x 8 columns]"
      ]
     },
     "execution_count": 10,
     "metadata": {},
     "output_type": "execute_result"
    }
   ],
   "source": [
    "df2"
   ]
  },
  {
   "cell_type": "code",
   "execution_count": 11,
   "metadata": {},
   "outputs": [],
   "source": [
    "# drop rows with NaN data from main dataset\n",
    "\n",
    "df = df.drop(df2.index)"
   ]
  },
  {
   "cell_type": "code",
   "execution_count": 12,
   "metadata": {},
   "outputs": [],
   "source": [
    "# combine main dataset with dataframe after imputing\n",
    "df = df.append(df2)"
   ]
  },
  {
   "cell_type": "code",
   "execution_count": 13,
   "metadata": {},
   "outputs": [
    {
     "data": {
      "text/html": [
       "<div>\n",
       "<style scoped>\n",
       "    .dataframe tbody tr th:only-of-type {\n",
       "        vertical-align: middle;\n",
       "    }\n",
       "\n",
       "    .dataframe tbody tr th {\n",
       "        vertical-align: top;\n",
       "    }\n",
       "\n",
       "    .dataframe thead th {\n",
       "        text-align: right;\n",
       "    }\n",
       "</style>\n",
       "<table border=\"1\" class=\"dataframe\">\n",
       "  <thead>\n",
       "    <tr style=\"text-align: right;\">\n",
       "      <th></th>\n",
       "      <th>Kode_Bayar</th>\n",
       "      <th>Kode_Barang</th>\n",
       "      <th>Barang</th>\n",
       "      <th>Jumlah</th>\n",
       "      <th>Tanggal_Transaksi</th>\n",
       "      <th>Harga_Satuan</th>\n",
       "      <th>Kode_Pelanggan</th>\n",
       "      <th>Negara</th>\n",
       "    </tr>\n",
       "  </thead>\n",
       "  <tbody>\n",
       "    <tr>\n",
       "      <th>0</th>\n",
       "      <td>536365</td>\n",
       "      <td>85123A</td>\n",
       "      <td>WHITE HANGING HEART T-LIGHT HOLDER</td>\n",
       "      <td>6.0</td>\n",
       "      <td>12/1/2010 8:26</td>\n",
       "      <td>2.55</td>\n",
       "      <td>17850.0</td>\n",
       "      <td>United Kingdom</td>\n",
       "    </tr>\n",
       "    <tr>\n",
       "      <th>1</th>\n",
       "      <td>536365</td>\n",
       "      <td>71053</td>\n",
       "      <td>WHITE METAL LANTERN</td>\n",
       "      <td>6.0</td>\n",
       "      <td>12/1/2010 8:26</td>\n",
       "      <td>3.39</td>\n",
       "      <td>17850.0</td>\n",
       "      <td>United Kingdom</td>\n",
       "    </tr>\n",
       "    <tr>\n",
       "      <th>2</th>\n",
       "      <td>536365</td>\n",
       "      <td>84406B</td>\n",
       "      <td>CREAM CUPID HEARTS COAT HANGER</td>\n",
       "      <td>8.0</td>\n",
       "      <td>12/1/2010 8:26</td>\n",
       "      <td>2.75</td>\n",
       "      <td>17850.0</td>\n",
       "      <td>United Kingdom</td>\n",
       "    </tr>\n",
       "    <tr>\n",
       "      <th>3</th>\n",
       "      <td>536365</td>\n",
       "      <td>84029G</td>\n",
       "      <td>KNITTED UNION FLAG HOT WATER BOTTLE</td>\n",
       "      <td>6.0</td>\n",
       "      <td>12/1/2010 8:26</td>\n",
       "      <td>3.39</td>\n",
       "      <td>17850.0</td>\n",
       "      <td>United Kingdom</td>\n",
       "    </tr>\n",
       "    <tr>\n",
       "      <th>4</th>\n",
       "      <td>536365</td>\n",
       "      <td>84029E</td>\n",
       "      <td>RED WOOLLY HOTTIE WHITE HEART.</td>\n",
       "      <td>6.0</td>\n",
       "      <td>12/1/2010 8:26</td>\n",
       "      <td>3.39</td>\n",
       "      <td>17850.0</td>\n",
       "      <td>United Kingdom</td>\n",
       "    </tr>\n",
       "    <tr>\n",
       "      <th>...</th>\n",
       "      <td>...</td>\n",
       "      <td>...</td>\n",
       "      <td>...</td>\n",
       "      <td>...</td>\n",
       "      <td>...</td>\n",
       "      <td>...</td>\n",
       "      <td>...</td>\n",
       "      <td>...</td>\n",
       "    </tr>\n",
       "    <tr>\n",
       "      <th>541379</th>\n",
       "      <td>581498</td>\n",
       "      <td>22041</td>\n",
       "      <td>RECORD FRAME 7</td>\n",
       "      <td>2</td>\n",
       "      <td>12/9/2011 10:26</td>\n",
       "      <td>5.79</td>\n",
       "      <td></td>\n",
       "      <td>United Kingdom</td>\n",
       "    </tr>\n",
       "    <tr>\n",
       "      <th>541549</th>\n",
       "      <td>581501</td>\n",
       "      <td>22165</td>\n",
       "      <td>DIAMANTE HEART SHAPED WALL MIRROR,</td>\n",
       "      <td>12</td>\n",
       "      <td>12/9/2011 10:46</td>\n",
       "      <td>3.95</td>\n",
       "      <td>12985</td>\n",
       "      <td>United Kingdom</td>\n",
       "    </tr>\n",
       "    <tr>\n",
       "      <th>541614</th>\n",
       "      <td>581516</td>\n",
       "      <td>21111</td>\n",
       "      <td>SWISS ROLL TOWEL, CHOCOLATE  SPOTS</td>\n",
       "      <td>24</td>\n",
       "      <td>12/9/2011 11:26</td>\n",
       "      <td>1.25</td>\n",
       "      <td>14422</td>\n",
       "      <td>United Kingdom</td>\n",
       "    </tr>\n",
       "    <tr>\n",
       "      <th>541649</th>\n",
       "      <td>581538</td>\n",
       "      <td>85071C</td>\n",
       "      <td>CHARLIE+LOLA</td>\n",
       "      <td>1</td>\n",
       "      <td>12/9/2011 11:34</td>\n",
       "      <td>0.39</td>\n",
       "      <td>14446</td>\n",
       "      <td>United Kingdom</td>\n",
       "    </tr>\n",
       "    <tr>\n",
       "      <th>541787</th>\n",
       "      <td>581578</td>\n",
       "      <td>21506</td>\n",
       "      <td>FANCY FONT BIRTHDAY CARD,</td>\n",
       "      <td>12</td>\n",
       "      <td>12/9/2011 12:16</td>\n",
       "      <td>0.42</td>\n",
       "      <td>12713</td>\n",
       "      <td>Germany</td>\n",
       "    </tr>\n",
       "  </tbody>\n",
       "</table>\n",
       "<p>536641 rows × 8 columns</p>\n",
       "</div>"
      ],
      "text/plain": [
       "       Kode_Bayar Kode_Barang                               Barang Jumlah  \\\n",
       "0          536365      85123A   WHITE HANGING HEART T-LIGHT HOLDER    6.0   \n",
       "1          536365       71053                  WHITE METAL LANTERN    6.0   \n",
       "2          536365      84406B       CREAM CUPID HEARTS COAT HANGER    8.0   \n",
       "3          536365      84029G  KNITTED UNION FLAG HOT WATER BOTTLE    6.0   \n",
       "4          536365      84029E       RED WOOLLY HOTTIE WHITE HEART.    6.0   \n",
       "...           ...         ...                                  ...    ...   \n",
       "541379     581498       22041                       RECORD FRAME 7      2   \n",
       "541549     581501       22165  DIAMANTE HEART SHAPED WALL MIRROR,      12   \n",
       "541614     581516       21111   SWISS ROLL TOWEL, CHOCOLATE  SPOTS     24   \n",
       "541649     581538      85071C                         CHARLIE+LOLA      1   \n",
       "541787     581578       21506           FANCY FONT BIRTHDAY CARD,      12   \n",
       "\n",
       "       Tanggal_Transaksi Harga_Satuan Kode_Pelanggan          Negara  \n",
       "0         12/1/2010 8:26         2.55        17850.0  United Kingdom  \n",
       "1         12/1/2010 8:26         3.39        17850.0  United Kingdom  \n",
       "2         12/1/2010 8:26         2.75        17850.0  United Kingdom  \n",
       "3         12/1/2010 8:26         3.39        17850.0  United Kingdom  \n",
       "4         12/1/2010 8:26         3.39        17850.0  United Kingdom  \n",
       "...                  ...          ...            ...             ...  \n",
       "541379   12/9/2011 10:26         5.79                 United Kingdom  \n",
       "541549   12/9/2011 10:46         3.95          12985  United Kingdom  \n",
       "541614   12/9/2011 11:26         1.25          14422  United Kingdom  \n",
       "541649   12/9/2011 11:34         0.39          14446  United Kingdom  \n",
       "541787   12/9/2011 12:16         0.42          12713         Germany  \n",
       "\n",
       "[536641 rows x 8 columns]"
      ]
     },
     "execution_count": 13,
     "metadata": {},
     "output_type": "execute_result"
    }
   ],
   "source": [
    "df"
   ]
  },
  {
   "cell_type": "code",
   "execution_count": 14,
   "metadata": {},
   "outputs": [
    {
     "name": "stdout",
     "output_type": "stream",
     "text": [
      "Kode_Bayar                0\n",
      "Kode_Barang               0\n",
      "Barang                 1454\n",
      "Jumlah                    0\n",
      "Tanggal_Transaksi         0\n",
      "Harga_Satuan              0\n",
      "Kode_Pelanggan       132649\n",
      "Negara                    0\n",
      "dtype: int64\n"
     ]
    }
   ],
   "source": [
    "# Recheck missing value after combine\n",
    "\n",
    "print(df.isnull().sum())"
   ]
  },
  {
   "cell_type": "code",
   "execution_count": 15,
   "metadata": {},
   "outputs": [
    {
     "data": {
      "text/html": [
       "<div>\n",
       "<style scoped>\n",
       "    .dataframe tbody tr th:only-of-type {\n",
       "        vertical-align: middle;\n",
       "    }\n",
       "\n",
       "    .dataframe tbody tr th {\n",
       "        vertical-align: top;\n",
       "    }\n",
       "\n",
       "    .dataframe thead th {\n",
       "        text-align: right;\n",
       "    }\n",
       "</style>\n",
       "<table border=\"1\" class=\"dataframe\">\n",
       "  <thead>\n",
       "    <tr style=\"text-align: right;\">\n",
       "      <th></th>\n",
       "      <th>Kode_Bayar</th>\n",
       "      <th>Kode_Barang</th>\n",
       "      <th>Barang</th>\n",
       "      <th>Jumlah</th>\n",
       "      <th>Tanggal_Transaksi</th>\n",
       "      <th>Harga_Satuan</th>\n",
       "      <th>Kode_Pelanggan</th>\n",
       "      <th>Negara</th>\n",
       "    </tr>\n",
       "  </thead>\n",
       "  <tbody>\n",
       "    <tr>\n",
       "      <th>622</th>\n",
       "      <td>536414</td>\n",
       "      <td>22139</td>\n",
       "      <td>NaN</td>\n",
       "      <td>56.0</td>\n",
       "      <td>12/1/2010 11:52</td>\n",
       "      <td>0.0</td>\n",
       "      <td>NaN</td>\n",
       "      <td>United Kingdom</td>\n",
       "    </tr>\n",
       "    <tr>\n",
       "      <th>1970</th>\n",
       "      <td>536545</td>\n",
       "      <td>21134</td>\n",
       "      <td>NaN</td>\n",
       "      <td>1.0</td>\n",
       "      <td>12/1/2010 14:32</td>\n",
       "      <td>0.0</td>\n",
       "      <td>NaN</td>\n",
       "      <td>United Kingdom</td>\n",
       "    </tr>\n",
       "    <tr>\n",
       "      <th>1971</th>\n",
       "      <td>536546</td>\n",
       "      <td>22145</td>\n",
       "      <td>NaN</td>\n",
       "      <td>1.0</td>\n",
       "      <td>12/1/2010 14:33</td>\n",
       "      <td>0.0</td>\n",
       "      <td>NaN</td>\n",
       "      <td>United Kingdom</td>\n",
       "    </tr>\n",
       "    <tr>\n",
       "      <th>1972</th>\n",
       "      <td>536547</td>\n",
       "      <td>37509</td>\n",
       "      <td>NaN</td>\n",
       "      <td>1.0</td>\n",
       "      <td>12/1/2010 14:33</td>\n",
       "      <td>0.0</td>\n",
       "      <td>NaN</td>\n",
       "      <td>United Kingdom</td>\n",
       "    </tr>\n",
       "    <tr>\n",
       "      <th>1987</th>\n",
       "      <td>536549</td>\n",
       "      <td>85226A</td>\n",
       "      <td>NaN</td>\n",
       "      <td>1.0</td>\n",
       "      <td>12/1/2010 14:34</td>\n",
       "      <td>0.0</td>\n",
       "      <td>NaN</td>\n",
       "      <td>United Kingdom</td>\n",
       "    </tr>\n",
       "    <tr>\n",
       "      <th>...</th>\n",
       "      <td>...</td>\n",
       "      <td>...</td>\n",
       "      <td>...</td>\n",
       "      <td>...</td>\n",
       "      <td>...</td>\n",
       "      <td>...</td>\n",
       "      <td>...</td>\n",
       "      <td>...</td>\n",
       "    </tr>\n",
       "    <tr>\n",
       "      <th>535322</th>\n",
       "      <td>581199</td>\n",
       "      <td>84581</td>\n",
       "      <td>NaN</td>\n",
       "      <td>-2.0</td>\n",
       "      <td>12/7/2011 18:26</td>\n",
       "      <td>0.0</td>\n",
       "      <td>NaN</td>\n",
       "      <td>United Kingdom</td>\n",
       "    </tr>\n",
       "    <tr>\n",
       "      <th>535326</th>\n",
       "      <td>581203</td>\n",
       "      <td>23406</td>\n",
       "      <td>NaN</td>\n",
       "      <td>15.0</td>\n",
       "      <td>12/7/2011 18:31</td>\n",
       "      <td>0.0</td>\n",
       "      <td>NaN</td>\n",
       "      <td>United Kingdom</td>\n",
       "    </tr>\n",
       "    <tr>\n",
       "      <th>535332</th>\n",
       "      <td>581209</td>\n",
       "      <td>21620</td>\n",
       "      <td>NaN</td>\n",
       "      <td>6.0</td>\n",
       "      <td>12/7/2011 18:35</td>\n",
       "      <td>0.0</td>\n",
       "      <td>NaN</td>\n",
       "      <td>United Kingdom</td>\n",
       "    </tr>\n",
       "    <tr>\n",
       "      <th>536981</th>\n",
       "      <td>581234</td>\n",
       "      <td>72817</td>\n",
       "      <td>NaN</td>\n",
       "      <td>27.0</td>\n",
       "      <td>12/8/2011 10:33</td>\n",
       "      <td>0.0</td>\n",
       "      <td>NaN</td>\n",
       "      <td>United Kingdom</td>\n",
       "    </tr>\n",
       "    <tr>\n",
       "      <th>538554</th>\n",
       "      <td>581408</td>\n",
       "      <td>85175</td>\n",
       "      <td>NaN</td>\n",
       "      <td>20.0</td>\n",
       "      <td>12/8/2011 14:06</td>\n",
       "      <td>0.0</td>\n",
       "      <td>NaN</td>\n",
       "      <td>United Kingdom</td>\n",
       "    </tr>\n",
       "  </tbody>\n",
       "</table>\n",
       "<p>1454 rows × 8 columns</p>\n",
       "</div>"
      ],
      "text/plain": [
       "       Kode_Bayar Kode_Barang Barang Jumlah Tanggal_Transaksi Harga_Satuan  \\\n",
       "622        536414       22139    NaN   56.0   12/1/2010 11:52          0.0   \n",
       "1970       536545       21134    NaN    1.0   12/1/2010 14:32          0.0   \n",
       "1971       536546       22145    NaN    1.0   12/1/2010 14:33          0.0   \n",
       "1972       536547       37509    NaN    1.0   12/1/2010 14:33          0.0   \n",
       "1987       536549      85226A    NaN    1.0   12/1/2010 14:34          0.0   \n",
       "...           ...         ...    ...    ...               ...          ...   \n",
       "535322     581199       84581    NaN   -2.0   12/7/2011 18:26          0.0   \n",
       "535326     581203       23406    NaN   15.0   12/7/2011 18:31          0.0   \n",
       "535332     581209       21620    NaN    6.0   12/7/2011 18:35          0.0   \n",
       "536981     581234       72817    NaN   27.0   12/8/2011 10:33          0.0   \n",
       "538554     581408       85175    NaN   20.0   12/8/2011 14:06          0.0   \n",
       "\n",
       "       Kode_Pelanggan          Negara  \n",
       "622               NaN  United Kingdom  \n",
       "1970              NaN  United Kingdom  \n",
       "1971              NaN  United Kingdom  \n",
       "1972              NaN  United Kingdom  \n",
       "1987              NaN  United Kingdom  \n",
       "...               ...             ...  \n",
       "535322            NaN  United Kingdom  \n",
       "535326            NaN  United Kingdom  \n",
       "535332            NaN  United Kingdom  \n",
       "536981            NaN  United Kingdom  \n",
       "538554            NaN  United Kingdom  \n",
       "\n",
       "[1454 rows x 8 columns]"
      ]
     },
     "execution_count": 15,
     "metadata": {},
     "output_type": "execute_result"
    }
   ],
   "source": [
    "# Drop Missing Values\n",
    "\n",
    "df[df['Barang'].isnull()]"
   ]
  },
  {
   "cell_type": "code",
   "execution_count": 16,
   "metadata": {},
   "outputs": [],
   "source": [
    "df=df.dropna(subset=['Barang','Kode_Pelanggan'])"
   ]
  },
  {
   "cell_type": "code",
   "execution_count": 17,
   "metadata": {},
   "outputs": [
    {
     "name": "stdout",
     "output_type": "stream",
     "text": [
      "Kode_Bayar           0\n",
      "Kode_Barang          0\n",
      "Barang               0\n",
      "Jumlah               0\n",
      "Tanggal_Transaksi    0\n",
      "Harga_Satuan         0\n",
      "Kode_Pelanggan       0\n",
      "Negara               0\n",
      "dtype: int64\n",
      "<class 'pandas.core.frame.DataFrame'>\n",
      "Int64Index: 403992 entries, 0 to 541787\n",
      "Data columns (total 8 columns):\n",
      " #   Column             Non-Null Count   Dtype \n",
      "---  ------             --------------   ----- \n",
      " 0   Kode_Bayar         403992 non-null  object\n",
      " 1   Kode_Barang        403992 non-null  object\n",
      " 2   Barang             403992 non-null  object\n",
      " 3   Jumlah             403992 non-null  object\n",
      " 4   Tanggal_Transaksi  403992 non-null  object\n",
      " 5   Harga_Satuan       403992 non-null  object\n",
      " 6   Kode_Pelanggan     403992 non-null  object\n",
      " 7   Negara             403992 non-null  object\n",
      "dtypes: object(8)\n",
      "memory usage: 27.7+ MB\n"
     ]
    }
   ],
   "source": [
    "print(df.isnull().sum())\n",
    "df.info()"
   ]
  },
  {
   "cell_type": "markdown",
   "metadata": {},
   "source": [
    "## Convert data types"
   ]
  },
  {
   "cell_type": "code",
   "execution_count": 18,
   "metadata": {},
   "outputs": [
    {
     "name": "stderr",
     "output_type": "stream",
     "text": [
      "<ipython-input-18-8fa83392f9b8>:1: SettingWithCopyWarning: \n",
      "A value is trying to be set on a copy of a slice from a DataFrame.\n",
      "Try using .loc[row_indexer,col_indexer] = value instead\n",
      "\n",
      "See the caveats in the documentation: https://pandas.pydata.org/pandas-docs/stable/user_guide/indexing.html#returning-a-view-versus-a-copy\n",
      "  df['Jumlah'] = df.Jumlah.astype(float)\n"
     ]
    }
   ],
   "source": [
    "df['Jumlah'] = df.Jumlah.astype(float)"
   ]
  },
  {
   "cell_type": "code",
   "execution_count": 19,
   "metadata": {},
   "outputs": [
    {
     "name": "stderr",
     "output_type": "stream",
     "text": [
      "<ipython-input-19-4a22385088d6>:1: SettingWithCopyWarning: \n",
      "A value is trying to be set on a copy of a slice from a DataFrame.\n",
      "Try using .loc[row_indexer,col_indexer] = value instead\n",
      "\n",
      "See the caveats in the documentation: https://pandas.pydata.org/pandas-docs/stable/user_guide/indexing.html#returning-a-view-versus-a-copy\n",
      "  df['Harga_Satuan'] = df.Harga_Satuan.astype(float)\n"
     ]
    }
   ],
   "source": [
    "df['Harga_Satuan'] = df.Harga_Satuan.astype(float)"
   ]
  },
  {
   "cell_type": "code",
   "execution_count": 20,
   "metadata": {},
   "outputs": [
    {
     "name": "stderr",
     "output_type": "stream",
     "text": [
      "c:\\users\\asus\\appdata\\local\\programs\\python\\python38\\lib\\site-packages\\pandas\\core\\frame.py:3188: SettingWithCopyWarning: \n",
      "A value is trying to be set on a copy of a slice from a DataFrame.\n",
      "Try using .loc[row_indexer,col_indexer] = value instead\n",
      "\n",
      "See the caveats in the documentation: https://pandas.pydata.org/pandas-docs/stable/user_guide/indexing.html#returning-a-view-versus-a-copy\n",
      "  self[k1] = value[k2]\n"
     ]
    }
   ],
   "source": [
    "df[['Tanggal_Transaksi']]= df[['Tanggal_Transaksi']].apply(pd.to_datetime)"
   ]
  },
  {
   "cell_type": "code",
   "execution_count": 21,
   "metadata": {},
   "outputs": [
    {
     "data": {
      "text/plain": [
       "0        2010-12-01 08:26:00\n",
       "1        2010-12-01 08:26:00\n",
       "2        2010-12-01 08:26:00\n",
       "3        2010-12-01 08:26:00\n",
       "4        2010-12-01 08:26:00\n",
       "                 ...        \n",
       "541379   2011-12-09 10:26:00\n",
       "541549   2011-12-09 10:46:00\n",
       "541614   2011-12-09 11:26:00\n",
       "541649   2011-12-09 11:34:00\n",
       "541787   2011-12-09 12:16:00\n",
       "Name: Tanggal_Transaksi, Length: 403992, dtype: datetime64[ns]"
      ]
     },
     "execution_count": 21,
     "metadata": {},
     "output_type": "execute_result"
    }
   ],
   "source": [
    "df['Tanggal_Transaksi']"
   ]
  },
  {
   "cell_type": "code",
   "execution_count": 22,
   "metadata": {},
   "outputs": [
    {
     "data": {
      "text/plain": [
       "2011-11-14 15:27:00    543\n",
       "2011-11-28 15:54:00    534\n",
       "2011-12-05 17:17:00    530\n",
       "2011-11-23 13:39:00    444\n",
       "2011-10-31 14:09:00    436\n",
       "                      ... \n",
       "2011-11-24 17:29:00      1\n",
       "2011-12-07 12:38:00      1\n",
       "2011-10-19 11:45:00      1\n",
       "2011-04-18 13:34:00      1\n",
       "2011-08-24 16:16:00      1\n",
       "Name: Tanggal_Transaksi, Length: 20998, dtype: int64"
      ]
     },
     "execution_count": 22,
     "metadata": {},
     "output_type": "execute_result"
    }
   ],
   "source": [
    "df['Tanggal_Transaksi'].value_counts()"
   ]
  },
  {
   "cell_type": "code",
   "execution_count": 23,
   "metadata": {},
   "outputs": [
    {
     "data": {
      "text/plain": [
       "Kode_Bayar                   object\n",
       "Kode_Barang                  object\n",
       "Barang                       object\n",
       "Jumlah                      float64\n",
       "Tanggal_Transaksi    datetime64[ns]\n",
       "Harga_Satuan                float64\n",
       "Kode_Pelanggan               object\n",
       "Negara                       object\n",
       "dtype: object"
      ]
     },
     "execution_count": 23,
     "metadata": {},
     "output_type": "execute_result"
    }
   ],
   "source": [
    "df.dtypes"
   ]
  },
  {
   "cell_type": "markdown",
   "metadata": {},
   "source": [
    "### dataset already cleaned"
   ]
  },
  {
   "cell_type": "markdown",
   "metadata": {},
   "source": [
    "# Case 1"
   ]
  },
  {
   "cell_type": "markdown",
   "metadata": {},
   "source": [
    "### 1.\tWhat items customers buy the most?"
   ]
  },
  {
   "cell_type": "code",
   "execution_count": 80,
   "metadata": {},
   "outputs": [],
   "source": [
    "df_item= df.groupby(by=['Barang']).sum()[['Jumlah']].reset_index()"
   ]
  },
  {
   "cell_type": "code",
   "execution_count": 81,
   "metadata": {},
   "outputs": [],
   "source": [
    "df_item_order= df_item[df_item['Jumlah'] >0 ]"
   ]
  },
  {
   "cell_type": "code",
   "execution_count": 83,
   "metadata": {},
   "outputs": [
    {
     "data": {
      "text/html": [
       "<div>\n",
       "<style scoped>\n",
       "    .dataframe tbody tr th:only-of-type {\n",
       "        vertical-align: middle;\n",
       "    }\n",
       "\n",
       "    .dataframe tbody tr th {\n",
       "        vertical-align: top;\n",
       "    }\n",
       "\n",
       "    .dataframe thead th {\n",
       "        text-align: right;\n",
       "    }\n",
       "</style>\n",
       "<table border=\"1\" class=\"dataframe\">\n",
       "  <thead>\n",
       "    <tr style=\"text-align: right;\">\n",
       "      <th></th>\n",
       "      <th>Barang</th>\n",
       "      <th>Jumlah</th>\n",
       "    </tr>\n",
       "  </thead>\n",
       "  <tbody>\n",
       "    <tr>\n",
       "      <th>3782</th>\n",
       "      <td>WORLD WAR 2 GLIDERS ASSTD DESIGNS</td>\n",
       "      <td>53119.0</td>\n",
       "    </tr>\n",
       "    <tr>\n",
       "      <th>1768</th>\n",
       "      <td>JUMBO BAG RED RETROSPOT</td>\n",
       "      <td>44963.0</td>\n",
       "    </tr>\n",
       "    <tr>\n",
       "      <th>217</th>\n",
       "      <td>ASSORTED COLOUR BIRD ORNAMENT</td>\n",
       "      <td>35215.0</td>\n",
       "    </tr>\n",
       "    <tr>\n",
       "      <th>3693</th>\n",
       "      <td>WHITE HANGING HEART T-LIGHT HOLDER</td>\n",
       "      <td>34128.0</td>\n",
       "    </tr>\n",
       "    <tr>\n",
       "      <th>2255</th>\n",
       "      <td>PACK OF 72 RETROSPOT CAKE CASES</td>\n",
       "      <td>33386.0</td>\n",
       "    </tr>\n",
       "  </tbody>\n",
       "</table>\n",
       "</div>"
      ],
      "text/plain": [
       "                                  Barang   Jumlah\n",
       "3782   WORLD WAR 2 GLIDERS ASSTD DESIGNS  53119.0\n",
       "1768             JUMBO BAG RED RETROSPOT  44963.0\n",
       "217        ASSORTED COLOUR BIRD ORNAMENT  35215.0\n",
       "3693  WHITE HANGING HEART T-LIGHT HOLDER  34128.0\n",
       "2255     PACK OF 72 RETROSPOT CAKE CASES  33386.0"
      ]
     },
     "execution_count": 83,
     "metadata": {},
     "output_type": "execute_result"
    }
   ],
   "source": [
    "df_item_order.sort_values(by=['Jumlah'], ascending = False).head()"
   ]
  },
  {
   "cell_type": "markdown",
   "metadata": {},
   "source": [
    "### What items we should ignore?"
   ]
  },
  {
   "cell_type": "code",
   "execution_count": 51,
   "metadata": {},
   "outputs": [
    {
     "data": {
      "text/html": [
       "<div>\n",
       "<style scoped>\n",
       "    .dataframe tbody tr th:only-of-type {\n",
       "        vertical-align: middle;\n",
       "    }\n",
       "\n",
       "    .dataframe tbody tr th {\n",
       "        vertical-align: top;\n",
       "    }\n",
       "\n",
       "    .dataframe thead th {\n",
       "        text-align: right;\n",
       "    }\n",
       "</style>\n",
       "<table border=\"1\" class=\"dataframe\">\n",
       "  <thead>\n",
       "    <tr style=\"text-align: right;\">\n",
       "      <th></th>\n",
       "      <th>Barang</th>\n",
       "      <th>Harga_Satuan</th>\n",
       "      <th>Jumlah</th>\n",
       "    </tr>\n",
       "  </thead>\n",
       "  <tbody>\n",
       "    <tr>\n",
       "      <th>0</th>\n",
       "      <td>4 PURPLE FLOCK DINNER CANDLES</td>\n",
       "      <td>0.79</td>\n",
       "      <td>49.0</td>\n",
       "    </tr>\n",
       "    <tr>\n",
       "      <th>1</th>\n",
       "      <td>4 PURPLE FLOCK DINNER CANDLES</td>\n",
       "      <td>2.55</td>\n",
       "      <td>89.0</td>\n",
       "    </tr>\n",
       "    <tr>\n",
       "      <th>2</th>\n",
       "      <td>50'S CHRISTMAS GIFT BAG LARGE</td>\n",
       "      <td>1.04</td>\n",
       "      <td>400.0</td>\n",
       "    </tr>\n",
       "    <tr>\n",
       "      <th>3</th>\n",
       "      <td>50'S CHRISTMAS GIFT BAG LARGE</td>\n",
       "      <td>1.25</td>\n",
       "      <td>1483.0</td>\n",
       "    </tr>\n",
       "    <tr>\n",
       "      <th>4</th>\n",
       "      <td>DOLLY GIRL BEAKER</td>\n",
       "      <td>1.08</td>\n",
       "      <td>1400.0</td>\n",
       "    </tr>\n",
       "    <tr>\n",
       "      <th>...</th>\n",
       "      <td>...</td>\n",
       "      <td>...</td>\n",
       "      <td>...</td>\n",
       "    </tr>\n",
       "    <tr>\n",
       "      <th>9260</th>\n",
       "      <td>ZINC WIRE SWEETHEART LETTER TRAY</td>\n",
       "      <td>1.25</td>\n",
       "      <td>13.0</td>\n",
       "    </tr>\n",
       "    <tr>\n",
       "      <th>9261</th>\n",
       "      <td>ZINC WIRE SWEETHEART LETTER TRAY</td>\n",
       "      <td>3.29</td>\n",
       "      <td>31.0</td>\n",
       "    </tr>\n",
       "    <tr>\n",
       "      <th>9262</th>\n",
       "      <td>ZINC WIRE SWEETHEART LETTER TRAY</td>\n",
       "      <td>3.75</td>\n",
       "      <td>36.0</td>\n",
       "    </tr>\n",
       "    <tr>\n",
       "      <th>9263</th>\n",
       "      <td>mouldy, thrown away.</td>\n",
       "      <td>0.00</td>\n",
       "      <td>-2600.0</td>\n",
       "    </tr>\n",
       "    <tr>\n",
       "      <th>9264</th>\n",
       "      <td>mouldy, unsaleable.</td>\n",
       "      <td>0.00</td>\n",
       "      <td>-1681.0</td>\n",
       "    </tr>\n",
       "  </tbody>\n",
       "</table>\n",
       "<p>9265 rows × 3 columns</p>\n",
       "</div>"
      ],
      "text/plain": [
       "                                Barang  Harga_Satuan  Jumlah\n",
       "0        4 PURPLE FLOCK DINNER CANDLES          0.79    49.0\n",
       "1        4 PURPLE FLOCK DINNER CANDLES          2.55    89.0\n",
       "2        50'S CHRISTMAS GIFT BAG LARGE          1.04   400.0\n",
       "3        50'S CHRISTMAS GIFT BAG LARGE          1.25  1483.0\n",
       "4                    DOLLY GIRL BEAKER          1.08  1400.0\n",
       "...                                ...           ...     ...\n",
       "9260  ZINC WIRE SWEETHEART LETTER TRAY          1.25    13.0\n",
       "9261  ZINC WIRE SWEETHEART LETTER TRAY          3.29    31.0\n",
       "9262  ZINC WIRE SWEETHEART LETTER TRAY          3.75    36.0\n",
       "9263              mouldy, thrown away.          0.00 -2600.0\n",
       "9264               mouldy, unsaleable.          0.00 -1681.0\n",
       "\n",
       "[9265 rows x 3 columns]"
      ]
     },
     "execution_count": 51,
     "metadata": {},
     "output_type": "execute_result"
    }
   ],
   "source": [
    "df_bjh= df.groupby(by=['Barang', 'Harga_Satuan']).sum()[['Jumlah']].reset_index()\n"
   ]
  },
  {
   "cell_type": "code",
   "execution_count": 54,
   "metadata": {},
   "outputs": [],
   "source": [
    "df_bjh=df_bjh[df_bjh['Jumlah'] >=0 ]"
   ]
  },
  {
   "cell_type": "code",
   "execution_count": 57,
   "metadata": {},
   "outputs": [],
   "source": [
    "df_bjh= df_bjh.sort_values(by=['Jumlah'], ascending = True).head()"
   ]
  },
  {
   "cell_type": "code",
   "execution_count": 59,
   "metadata": {},
   "outputs": [
    {
     "data": {
      "text/html": [
       "<div>\n",
       "<style scoped>\n",
       "    .dataframe tbody tr th:only-of-type {\n",
       "        vertical-align: middle;\n",
       "    }\n",
       "\n",
       "    .dataframe tbody tr th {\n",
       "        vertical-align: top;\n",
       "    }\n",
       "\n",
       "    .dataframe thead th {\n",
       "        text-align: right;\n",
       "    }\n",
       "</style>\n",
       "<table border=\"1\" class=\"dataframe\">\n",
       "  <thead>\n",
       "    <tr style=\"text-align: right;\">\n",
       "      <th></th>\n",
       "      <th>Barang</th>\n",
       "      <th>Harga_Satuan</th>\n",
       "      <th>Jumlah</th>\n",
       "    </tr>\n",
       "  </thead>\n",
       "  <tbody>\n",
       "    <tr>\n",
       "      <th>1532</th>\n",
       "      <td>CHILDS BREAKFAST SET CIRCUS PARADE</td>\n",
       "      <td>0.00</td>\n",
       "      <td>1.0</td>\n",
       "    </tr>\n",
       "    <tr>\n",
       "      <th>5389</th>\n",
       "      <td>PACK 4 FLOWER/BUTTERFLY PATCHES</td>\n",
       "      <td>1.25</td>\n",
       "      <td>1.0</td>\n",
       "    </tr>\n",
       "    <tr>\n",
       "      <th>5388</th>\n",
       "      <td>PACK 3 IRON ON DOG PATCHES</td>\n",
       "      <td>2.46</td>\n",
       "      <td>1.0</td>\n",
       "    </tr>\n",
       "    <tr>\n",
       "      <th>8447</th>\n",
       "      <td>TWO DOOR CURIO CABINET</td>\n",
       "      <td>6.00</td>\n",
       "      <td>1.0</td>\n",
       "    </tr>\n",
       "    <tr>\n",
       "      <th>2039</th>\n",
       "      <td>DAISY SKETCHBOOK</td>\n",
       "      <td>7.46</td>\n",
       "      <td>1.0</td>\n",
       "    </tr>\n",
       "  </tbody>\n",
       "</table>\n",
       "</div>"
      ],
      "text/plain": [
       "                                  Barang  Harga_Satuan  Jumlah\n",
       "1532  CHILDS BREAKFAST SET CIRCUS PARADE          0.00     1.0\n",
       "5389     PACK 4 FLOWER/BUTTERFLY PATCHES          1.25     1.0\n",
       "5388          PACK 3 IRON ON DOG PATCHES          2.46     1.0\n",
       "8447              TWO DOOR CURIO CABINET          6.00     1.0\n",
       "2039                   DAISY SKETCHBOOK           7.46     1.0"
      ]
     },
     "execution_count": 59,
     "metadata": {},
     "output_type": "execute_result"
    }
   ],
   "source": [
    "df_bjh= df_bjh.sort_values(by=['Harga_Satuan'], ascending = True).head()\n",
    "df_bjh"
   ]
  },
  {
   "cell_type": "markdown",
   "metadata": {},
   "source": [
    "### The most buy items is WORLD WAR 2 GLIDERS ASSTD DESIGN with 53119 items were sold and we should ignore PACK 4 FLOWER/BUTTERFLY PATCHES because with cheap price but it sold just one item. "
   ]
  },
  {
   "cell_type": "markdown",
   "metadata": {},
   "source": [
    "# Case 2"
   ]
  },
  {
   "cell_type": "markdown",
   "metadata": {},
   "source": [
    "### 2.\tWhat is our strategy to increase sales based on our export destination countries?"
   ]
  },
  {
   "cell_type": "code",
   "execution_count": 77,
   "metadata": {},
   "outputs": [],
   "source": [
    "df_nbj=df.groupby(by=['Negara', 'Barang']).max()[['Jumlah']].reset_index()"
   ]
  },
  {
   "cell_type": "code",
   "execution_count": 78,
   "metadata": {},
   "outputs": [
    {
     "data": {
      "text/html": [
       "<div>\n",
       "<style scoped>\n",
       "    .dataframe tbody tr th:only-of-type {\n",
       "        vertical-align: middle;\n",
       "    }\n",
       "\n",
       "    .dataframe tbody tr th {\n",
       "        vertical-align: top;\n",
       "    }\n",
       "\n",
       "    .dataframe thead th {\n",
       "        text-align: right;\n",
       "    }\n",
       "</style>\n",
       "<table border=\"1\" class=\"dataframe\">\n",
       "  <thead>\n",
       "    <tr style=\"text-align: right;\">\n",
       "      <th></th>\n",
       "      <th>Negara</th>\n",
       "      <th>Barang</th>\n",
       "      <th>Jumlah</th>\n",
       "    </tr>\n",
       "  </thead>\n",
       "  <tbody>\n",
       "    <tr>\n",
       "      <th>17582</th>\n",
       "      <td>United Kingdom</td>\n",
       "      <td>PAPER CRAFT , LITTLE BIRDIE</td>\n",
       "      <td>80995.0</td>\n",
       "    </tr>\n",
       "    <tr>\n",
       "      <th>17257</th>\n",
       "      <td>United Kingdom</td>\n",
       "      <td>MEDIUM CERAMIC TOP STORAGE JAR</td>\n",
       "      <td>74215.0</td>\n",
       "    </tr>\n",
       "    <tr>\n",
       "      <th>15543</th>\n",
       "      <td>United Kingdom</td>\n",
       "      <td>ASSTD DESIGN 3D PAPER STICKERS</td>\n",
       "      <td>12540.0</td>\n",
       "    </tr>\n",
       "    <tr>\n",
       "      <th>19044</th>\n",
       "      <td>United Kingdom</td>\n",
       "      <td>WORLD WAR 2 GLIDERS ASSTD DESIGNS</td>\n",
       "      <td>4800.0</td>\n",
       "    </tr>\n",
       "    <tr>\n",
       "      <th>18524</th>\n",
       "      <td>United Kingdom</td>\n",
       "      <td>SMALL POPCORN HOLDER</td>\n",
       "      <td>4300.0</td>\n",
       "    </tr>\n",
       "  </tbody>\n",
       "</table>\n",
       "</div>"
      ],
      "text/plain": [
       "               Negara                             Barang   Jumlah\n",
       "17582  United Kingdom        PAPER CRAFT , LITTLE BIRDIE  80995.0\n",
       "17257  United Kingdom     MEDIUM CERAMIC TOP STORAGE JAR  74215.0\n",
       "15543  United Kingdom     ASSTD DESIGN 3D PAPER STICKERS  12540.0\n",
       "19044  United Kingdom  WORLD WAR 2 GLIDERS ASSTD DESIGNS   4800.0\n",
       "18524  United Kingdom               SMALL POPCORN HOLDER   4300.0"
      ]
     },
     "execution_count": 78,
     "metadata": {},
     "output_type": "execute_result"
    }
   ],
   "source": [
    "df_nbj.sort_values(by=['Jumlah'], ascending = False).head()"
   ]
  },
  {
   "cell_type": "markdown",
   "metadata": {},
   "source": [
    "### For increasing sales, we can produce more Paper Crafts and expore to UK\n"
   ]
  },
  {
   "cell_type": "markdown",
   "metadata": {},
   "source": [
    "# Case 3"
   ]
  },
  {
   "cell_type": "markdown",
   "metadata": {},
   "source": [
    "### 3.\tDo customer segmentation appropriately. Please explain in detail and completely"
   ]
  },
  {
   "cell_type": "code",
   "execution_count": 30,
   "metadata": {},
   "outputs": [],
   "source": [
    "import pandas as pd\n",
    "import numpy as np\n",
    "import datetime\n",
    "import math\n",
    "import matplotlib.pyplot as plt\n",
    "import matplotlib.mlab as mlab\n",
    "from sklearn import preprocessing\n",
    "from sklearn.cluster import KMeans\n",
    "import matplotlib.cm as cm"
   ]
  },
  {
   "cell_type": "markdown",
   "metadata": {},
   "source": [
    "### Building features for RFM model:"
   ]
  },
  {
   "cell_type": "markdown",
   "metadata": {},
   "source": [
    "### 1. Recency:"
   ]
  },
  {
   "cell_type": "code",
   "execution_count": 31,
   "metadata": {},
   "outputs": [
    {
     "name": "stderr",
     "output_type": "stream",
     "text": [
      "<ipython-input-31-797ff954c66d>:4: SettingWithCopyWarning: \n",
      "A value is trying to be set on a copy of a slice from a DataFrame.\n",
      "Try using .loc[row_indexer,col_indexer] = value instead\n",
      "\n",
      "See the caveats in the documentation: https://pandas.pydata.org/pandas-docs/stable/user_guide/indexing.html#returning-a-view-versus-a-copy\n",
      "  df['Recency'] = (referenceDate - df['Tanggal_Transaksi']).astype('timedelta64[D]')\n"
     ]
    }
   ],
   "source": [
    "referenceDate = df['Tanggal_Transaksi'].max()\n",
    "referenceDate += datetime.timedelta(days = 1)\n",
    "\n",
    "df['Recency'] = (referenceDate - df['Tanggal_Transaksi']).astype('timedelta64[D]')\n",
    "dfCustomerHistory = df.groupby(\"Kode_Pelanggan\").min().reset_index()[['Kode_Pelanggan', 'Recency']]\n",
    "dfCustomerHistory.head()\n",
    "dfCustomerHistory= dfCustomerHistory[dfCustomerHistory['Recency']>0]"
   ]
  },
  {
   "cell_type": "markdown",
   "metadata": {},
   "source": [
    "### 2. Frequency:"
   ]
  },
  {
   "cell_type": "code",
   "execution_count": 32,
   "metadata": {},
   "outputs": [],
   "source": [
    "dfCustomerFrequency = df[['Kode_Pelanggan', 'Jumlah']].groupby('Kode_Pelanggan').count().reset_index()\n",
    "dfCustomerFrequency.rename(columns={'Jumlah': 'Frequency'}, inplace= True)\n",
    "dfCustomerHistory = dfCustomerHistory.merge(dfCustomerFrequency, how=\"outer\")\n",
    "dfCustomerHistory= dfCustomerHistory[dfCustomerHistory['Frequency']>0]"
   ]
  },
  {
   "cell_type": "markdown",
   "metadata": {},
   "source": [
    "### 3. Monetary/ Amount:"
   ]
  },
  {
   "cell_type": "code",
   "execution_count": 33,
   "metadata": {},
   "outputs": [],
   "source": [
    "dfCustomerMV = df[['Kode_Pelanggan', 'Jumlah']].groupby('Kode_Pelanggan').sum().reset_index()\n",
    "dfCustomerMV.rename(columns={'Jumlah': 'MonetaryValue'}, inplace= True)\n",
    "dfCustomerHistory = dfCustomerHistory.merge(dfCustomerMV, how=\"outer\")\n",
    "#add a small number to monetary value to avoid problems with zeros as we transform to log scale\n",
    "dfCustomerHistory[\"MonetaryValue\"] = dfCustomerHistory[\"MonetaryValue\"] + 0.001\n",
    "dfCustomerHistory= dfCustomerHistory[dfCustomerHistory['MonetaryValue']>0]"
   ]
  },
  {
   "cell_type": "markdown",
   "metadata": {},
   "source": [
    "### Rescalling"
   ]
  },
  {
   "cell_type": "code",
   "execution_count": 34,
   "metadata": {},
   "outputs": [],
   "source": [
    "from math import log\n",
    "#Applying log transformations\n",
    "dfCustomerHistory['log_Recency'] = dfCustomerHistory[\"Recency\"].apply(math.log)\n",
    "dfCustomerHistory['log_Frequency'] = dfCustomerHistory[\"Frequency\"].apply(math.log)\n",
    "dfCustomerHistory['log_MonetaryValue'] = dfCustomerHistory[\"MonetaryValue\"].apply(math.log)"
   ]
  },
  {
   "cell_type": "code",
   "execution_count": 35,
   "metadata": {},
   "outputs": [],
   "source": [
    "#Preparing matrix for standard scaling transformation\n",
    "X = dfCustomerHistory[[\"log_Recency\", \"log_Frequency\", \"log_MonetaryValue\"]]"
   ]
  },
  {
   "cell_type": "markdown",
   "metadata": {},
   "source": [
    "### Modelling"
   ]
  },
  {
   "cell_type": "code",
   "execution_count": 36,
   "metadata": {},
   "outputs": [],
   "source": [
    "import pandas as pd  \n",
    "from sklearn.cluster import KMeans\n",
    "\n",
    "#Define KMeans as cluster_model  \n",
    "cluster_model = KMeans(n_clusters = 3, random_state = 24)  \n",
    "labels = cluster_model.fit_predict(X)"
   ]
  },
  {
   "cell_type": "code",
   "execution_count": 37,
   "metadata": {},
   "outputs": [
    {
     "data": {
      "text/html": [
       "<div>\n",
       "<style scoped>\n",
       "    .dataframe tbody tr th:only-of-type {\n",
       "        vertical-align: middle;\n",
       "    }\n",
       "\n",
       "    .dataframe tbody tr th {\n",
       "        vertical-align: top;\n",
       "    }\n",
       "\n",
       "    .dataframe thead th {\n",
       "        text-align: right;\n",
       "    }\n",
       "</style>\n",
       "<table border=\"1\" class=\"dataframe\">\n",
       "  <thead>\n",
       "    <tr style=\"text-align: right;\">\n",
       "      <th></th>\n",
       "      <th>log_Recency</th>\n",
       "      <th>log_Frequency</th>\n",
       "      <th>log_MonetaryValue</th>\n",
       "      <th>cluster</th>\n",
       "    </tr>\n",
       "  </thead>\n",
       "  <tbody>\n",
       "    <tr>\n",
       "      <th>0</th>\n",
       "      <td>5.786897</td>\n",
       "      <td>0.693147</td>\n",
       "      <td>-6.907755</td>\n",
       "      <td>1</td>\n",
       "    </tr>\n",
       "    <tr>\n",
       "      <th>1</th>\n",
       "      <td>0.693147</td>\n",
       "      <td>5.198497</td>\n",
       "      <td>7.802210</td>\n",
       "      <td>2</td>\n",
       "    </tr>\n",
       "    <tr>\n",
       "      <th>2</th>\n",
       "      <td>4.317488</td>\n",
       "      <td>3.433987</td>\n",
       "      <td>7.758334</td>\n",
       "      <td>2</td>\n",
       "    </tr>\n",
       "    <tr>\n",
       "      <th>3</th>\n",
       "      <td>2.944439</td>\n",
       "      <td>4.290459</td>\n",
       "      <td>6.447307</td>\n",
       "      <td>2</td>\n",
       "    </tr>\n",
       "    <tr>\n",
       "      <th>4</th>\n",
       "      <td>5.736572</td>\n",
       "      <td>2.833213</td>\n",
       "      <td>5.283209</td>\n",
       "      <td>0</td>\n",
       "    </tr>\n",
       "  </tbody>\n",
       "</table>\n",
       "</div>"
      ],
      "text/plain": [
       "   log_Recency  log_Frequency  log_MonetaryValue  cluster\n",
       "0     5.786897       0.693147          -6.907755        1\n",
       "1     0.693147       5.198497           7.802210        2\n",
       "2     4.317488       3.433987           7.758334        2\n",
       "3     2.944439       4.290459           6.447307        2\n",
       "4     5.736572       2.833213           5.283209        0"
      ]
     },
     "execution_count": 37,
     "metadata": {},
     "output_type": "execute_result"
    }
   ],
   "source": [
    "X_pred=X.copy()\n",
    "X_pred['cluster']=labels\n",
    "X_pred.head()"
   ]
  },
  {
   "cell_type": "code",
   "execution_count": 38,
   "metadata": {},
   "outputs": [
    {
     "data": {
      "text/plain": [
       "array([[4.44812616, 3.05858406, 5.33925779],\n",
       "       [4.62020539, 0.59351836, 2.32917017],\n",
       "       [2.50169053, 4.78198665, 7.07000421]])"
      ]
     },
     "execution_count": 38,
     "metadata": {},
     "output_type": "execute_result"
    }
   ],
   "source": [
    "cluster_model.cluster_centers_"
   ]
  },
  {
   "cell_type": "code",
   "execution_count": 39,
   "metadata": {},
   "outputs": [
    {
     "data": {
      "text/html": [
       "<div>\n",
       "<style scoped>\n",
       "    .dataframe tbody tr th:only-of-type {\n",
       "        vertical-align: middle;\n",
       "    }\n",
       "\n",
       "    .dataframe tbody tr th {\n",
       "        vertical-align: top;\n",
       "    }\n",
       "\n",
       "    .dataframe thead th {\n",
       "        text-align: right;\n",
       "    }\n",
       "</style>\n",
       "<table border=\"1\" class=\"dataframe\">\n",
       "  <thead>\n",
       "    <tr style=\"text-align: right;\">\n",
       "      <th></th>\n",
       "      <th>log_Recency</th>\n",
       "      <th>log_Frequency</th>\n",
       "      <th>log_MonetaryValue</th>\n",
       "    </tr>\n",
       "  </thead>\n",
       "  <tbody>\n",
       "    <tr>\n",
       "      <th>0</th>\n",
       "      <td>4.448126</td>\n",
       "      <td>3.058584</td>\n",
       "      <td>5.339258</td>\n",
       "    </tr>\n",
       "    <tr>\n",
       "      <th>1</th>\n",
       "      <td>4.620205</td>\n",
       "      <td>0.593518</td>\n",
       "      <td>2.329170</td>\n",
       "    </tr>\n",
       "    <tr>\n",
       "      <th>2</th>\n",
       "      <td>2.501691</td>\n",
       "      <td>4.781987</td>\n",
       "      <td>7.070004</td>\n",
       "    </tr>\n",
       "  </tbody>\n",
       "</table>\n",
       "</div>"
      ],
      "text/plain": [
       "   log_Recency  log_Frequency  log_MonetaryValue\n",
       "0     4.448126       3.058584           5.339258\n",
       "1     4.620205       0.593518           2.329170\n",
       "2     2.501691       4.781987           7.070004"
      ]
     },
     "execution_count": 39,
     "metadata": {},
     "output_type": "execute_result"
    }
   ],
   "source": [
    "df_new = pd.DataFrame(cluster_model.cluster_centers_, columns= X.columns)\n",
    "df_new"
   ]
  },
  {
   "cell_type": "code",
   "execution_count": 40,
   "metadata": {},
   "outputs": [
    {
     "data": {
      "text/html": [
       "<div>\n",
       "<style scoped>\n",
       "    .dataframe tbody tr th:only-of-type {\n",
       "        vertical-align: middle;\n",
       "    }\n",
       "\n",
       "    .dataframe tbody tr th {\n",
       "        vertical-align: top;\n",
       "    }\n",
       "\n",
       "    .dataframe thead th {\n",
       "        text-align: right;\n",
       "    }\n",
       "</style>\n",
       "<table border=\"1\" class=\"dataframe\">\n",
       "  <thead>\n",
       "    <tr style=\"text-align: right;\">\n",
       "      <th></th>\n",
       "      <th>Cluster</th>\n",
       "      <th>Recency</th>\n",
       "      <th>Frequency</th>\n",
       "      <th>Amount</th>\n",
       "    </tr>\n",
       "  </thead>\n",
       "  <tbody>\n",
       "    <tr>\n",
       "      <th>0</th>\n",
       "      <td>0</td>\n",
       "      <td>4.448126</td>\n",
       "      <td>3.058584</td>\n",
       "      <td>5.339258</td>\n",
       "    </tr>\n",
       "    <tr>\n",
       "      <th>1</th>\n",
       "      <td>1</td>\n",
       "      <td>4.620205</td>\n",
       "      <td>0.593518</td>\n",
       "      <td>2.329170</td>\n",
       "    </tr>\n",
       "    <tr>\n",
       "      <th>2</th>\n",
       "      <td>2</td>\n",
       "      <td>2.501691</td>\n",
       "      <td>4.781987</td>\n",
       "      <td>7.070004</td>\n",
       "    </tr>\n",
       "  </tbody>\n",
       "</table>\n",
       "</div>"
      ],
      "text/plain": [
       "   Cluster   Recency  Frequency    Amount\n",
       "0        0  4.448126   3.058584  5.339258\n",
       "1        1  4.620205   0.593518  2.329170\n",
       "2        2  2.501691   4.781987  7.070004"
      ]
     },
     "execution_count": 40,
     "metadata": {},
     "output_type": "execute_result"
    }
   ],
   "source": [
    "df_final = pd.concat([pd.Series([0,1,2]), df_new.log_Recency, df_new.log_Frequency, df_new.log_MonetaryValue], axis=1)\n",
    "df_final.columns = [\"Cluster\", \"Recency\", \"Frequency\", \"Amount\"]\n",
    "df_final.head()"
   ]
  },
  {
   "cell_type": "code",
   "execution_count": 41,
   "metadata": {},
   "outputs": [
    {
     "data": {
      "image/png": "[encoded data removed]",
      "text/plain": [
       "<Figure size 1080x360 with 3 Axes>"
      ]
     },
     "metadata": {
      "needs_background": "light"
     },
     "output_type": "display_data"
    }
   ],
   "source": [
    "fig, axs = plt.subplots(1,3, figsize = (15,5))\n",
    "\n",
    "sns.barplot(x=df_final.Cluster, y=df_final.Amount, ax = axs[0])\n",
    "sns.barplot(x=df_final.Cluster, y=df_final.Frequency, ax = axs[1])\n",
    "sns.barplot(x=df_final.Cluster, y=df_final.Recency, ax = axs[2])\n",
    "plt.tight_layout()            \n",
    "plt.show()"
   ]
  },
  {
   "attachments": {},
   "cell_type": "markdown",
   "metadata": {},
   "source": [
    "Cluster 1 is customers who recently bought items<br>\n",
    "Cluster 2 is the ones who buy more frequently<br>\n",
    "Cluster 2 is the ones who spend money the most\n"
   ]
  },
  {
   "cell_type": "markdown",
   "metadata": {},
   "source": [
    "# Case 4\n",
    "\n",
    "### 4.\tGet the hidden insight from the data"
   ]
  },
  {
   "cell_type": "markdown",
   "metadata": {},
   "source": [
    "### Top 10 Country"
   ]
  },
  {
   "cell_type": "code",
   "execution_count": 42,
   "metadata": {},
   "outputs": [
    {
     "data": {
      "text/plain": [
       "<AxesSubplot:>"
      ]
     },
     "execution_count": 42,
     "metadata": {},
     "output_type": "execute_result"
    },
    {
     "data": {
      "image/png": "[encoded data removed]",
      "text/plain": [
       "<Figure size 576x360 with 1 Axes>"
      ]
     },
     "metadata": {
      "needs_background": "light"
     },
     "output_type": "display_data"
    }
   ],
   "source": [
    "df.Negara.value_counts().head(10).plot.bar(figsize=(8,5))"
   ]
  },
  {
   "cell_type": "code",
   "execution_count": 60,
   "metadata": {},
   "outputs": [
    {
     "data": {
      "text/plain": [
       "United Kingdom    359112\n",
       "Germany             9480\n",
       "France              8475\n",
       "EIRE                7476\n",
       "Spain               2528\n",
       "Netherlands         2371\n",
       "Belgium             2069\n",
       "Switzerland         1877\n",
       "Portugal            1471\n",
       "Australia           1258\n",
       "Name: Negara, dtype: int64"
      ]
     },
     "execution_count": 60,
     "metadata": {},
     "output_type": "execute_result"
    }
   ],
   "source": [
    "df.Negara.value_counts().head(10)"
   ]
  },
  {
   "cell_type": "markdown",
   "metadata": {},
   "source": [
    "## Revenue per Country"
   ]
  },
  {
   "cell_type": "code",
   "execution_count": 43,
   "metadata": {},
   "outputs": [
    {
     "name": "stderr",
     "output_type": "stream",
     "text": [
      "<ipython-input-43-25711d88b63f>:1: SettingWithCopyWarning: \n",
      "A value is trying to be set on a copy of a slice from a DataFrame.\n",
      "Try using .loc[row_indexer,col_indexer] = value instead\n",
      "\n",
      "See the caveats in the documentation: https://pandas.pydata.org/pandas-docs/stable/user_guide/indexing.html#returning-a-view-versus-a-copy\n",
      "  df['Total_Price']=df['Jumlah']*df['Harga_Satuan']\n"
     ]
    }
   ],
   "source": [
    "df['Total_Price']=df['Jumlah']*df['Harga_Satuan']"
   ]
  },
  {
   "cell_type": "code",
   "execution_count": 44,
   "metadata": {
    "scrolled": true
   },
   "outputs": [
    {
     "data": {
      "text/plain": [
       "Text(0.5, 1.0, 'Revenue per Country')"
      ]
     },
     "execution_count": 44,
     "metadata": {},
     "output_type": "execute_result"
    },
    {
     "data": {
      "image/png": "[encoded data removed]",
      "text/plain": [
       "<Figure size 1080x864 with 1 Axes>"
      ]
     },
     "metadata": {
      "needs_background": "light"
     },
     "output_type": "display_data"
    }
   ],
   "source": [
    "revenue_per_countries = df.groupby([\"Negara\"])[\"Total_Price\"].sum().sort_values()\n",
    "revenue_per_countries.plot(kind='barh', figsize=(15,12))\n",
    "plt.title(\"Revenue per Country\")"
   ]
  },
  {
   "cell_type": "markdown",
   "metadata": {},
   "source": [
    "### United Kingdom is the highest revenue items during 2010-2011\n"
   ]
  },
  {
   "cell_type": "markdown",
   "metadata": {},
   "source": [
    "### Transction by Year"
   ]
  },
  {
   "cell_type": "code",
   "execution_count": 45,
   "metadata": {},
   "outputs": [
    {
     "name": "stderr",
     "output_type": "stream",
     "text": [
      "<ipython-input-45-17fa3c622b22>:1: SettingWithCopyWarning: \n",
      "A value is trying to be set on a copy of a slice from a DataFrame.\n",
      "Try using .loc[row_indexer,col_indexer] = value instead\n",
      "\n",
      "See the caveats in the documentation: https://pandas.pydata.org/pandas-docs/stable/user_guide/indexing.html#returning-a-view-versus-a-copy\n",
      "  df['year'] = pd.DatetimeIndex(df['Tanggal_Transaksi']).year\n"
     ]
    }
   ],
   "source": [
    "df['year'] = pd.DatetimeIndex(df['Tanggal_Transaksi']).year"
   ]
  },
  {
   "cell_type": "code",
   "execution_count": 46,
   "metadata": {},
   "outputs": [
    {
     "data": {
      "text/plain": [
       "2011    377354\n",
       "2010     26638\n",
       "Name: year, dtype: int64"
      ]
     },
     "execution_count": 46,
     "metadata": {},
     "output_type": "execute_result"
    }
   ],
   "source": [
    "df['year'].value_counts()"
   ]
  },
  {
   "cell_type": "code",
   "execution_count": 47,
   "metadata": {},
   "outputs": [
    {
     "data": {
      "text/plain": [
       "<AxesSubplot:>"
      ]
     },
     "execution_count": 47,
     "metadata": {},
     "output_type": "execute_result"
    },
    {
     "data": {
      "image/png": "[encoded data removed]",
      "text/plain": [
       "<Figure size 576x360 with 1 Axes>"
      ]
     },
     "metadata": {
      "needs_background": "light"
     },
     "output_type": "display_data"
    }
   ],
   "source": [
    "df.year.value_counts().plot.bar(figsize=(8,5))"
   ]
  },
  {
   "cell_type": "markdown",
   "metadata": {},
   "source": [
    "### Transactions in 2011 are higher than 2010 with 377354 transactions"
   ]
  }
 ],
 "metadata": {
  "kernelspec": {
   "display_name": "Python 3",
   "language": "python",
   "name": "python3"
  },
  "language_info": {
   "codemirror_mode": {
    "name": "ipython",
    "version": 3
   },
   "file_extension": ".py",
   "mimetype": "text/x-python",
   "name": "python",
   "nbconvert_exporter": "python",
   "pygments_lexer": "ipython3",
   "version": "3.8.7"
  }
 },
 "nbformat": 4,
 "nbformat_minor": 4
}
